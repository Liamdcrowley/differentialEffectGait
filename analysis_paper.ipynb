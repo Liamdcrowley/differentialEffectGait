{
 "cells": [
  {
   "cell_type": "code",
   "execution_count": null,
   "id": "1b50729b-e4d2-454a-ac6e-ce963f0c6e95",
   "metadata": {},
   "outputs": [],
   "source": [
    "import pandas as pd\n",
    "\n",
    "# Load the CSV file\n",
    "file_path = \"data.csv\"\n",
    "df = pd.read_csv(file_path)\n",
    "\n",
    "# Display column names\n",
    "print(df.columns)\n"
   ]
  },
  {
   "cell_type": "code",
   "execution_count": 2,
   "id": "9dbaed9b-4d0a-4218-abe3-89a18b0df3d4",
   "metadata": {},
   "outputs": [
    {
     "name": "stdout",
     "output_type": "stream",
     "text": [
      "T-test results (accuracy vs. chance level) per emotion:\n",
      "Anger: t=15.242, p=0.000, mean=0.313, d=0.315\n",
      "Disgust: t=-6.766, p=0.000, mean=0.121, d=-0.141\n",
      "Fear: t=14.318, p=0.000, mean=0.302, d=0.294\n",
      "Joy: t=-9.142, p=0.000, mean=0.107, d=-0.195\n",
      "Neutral: t=25.375, p=0.000, mean=0.426, d=0.524\n",
      "Sadness: t=7.330, p=0.000, mean=0.231, d=0.153\n",
      "\n",
      "T-test collapsed across emotions:\n",
      "t=23.071, p=0.000, mean accuracy=0.252, d=0.196\n",
      "\n",
      "F-test (ANOVA) results:\n",
      "F=196.415, p=0.000, η²=0.066\n"
     ]
    }
   ],
   "source": [
    "import pandas as pd\n",
    "import scipy.stats as stats\n",
    "import numpy as np\n",
    "\n",
    "# Load the CSV file\n",
    "file_path = \"data.csv\"\n",
    "df = pd.read_csv(file_path)\n",
    "\n",
    "# Define chance level\n",
    "chance_level = 1 / 6  # Since there are 6 emotions\n",
    "\n",
    "# Function to compute Cohen's d\n",
    "def cohens_d(sample, pop_mean):\n",
    "    mean_diff = np.mean(sample) - pop_mean\n",
    "    pooled_std = np.std(sample, ddof=1)  # Sample standard deviation (unbiased)\n",
    "    return mean_diff / pooled_std if pooled_std > 0 else np.nan\n",
    "\n",
    "# Compute t-tests and Cohen's d for each emotion\n",
    "t_test_results = {}\n",
    "for emotion, group in df.groupby('Emotion'):\n",
    "    t_stat, p_value = stats.ttest_1samp(group['Correct'], chance_level)\n",
    "    effect_size = cohens_d(group['Correct'], chance_level)\n",
    "    t_test_results[emotion] = {\n",
    "        't_stat': t_stat,\n",
    "        'p_value': p_value,\n",
    "        'mean_accuracy': group['Correct'].mean(),\n",
    "        'cohens_d': effect_size\n",
    "    }\n",
    "\n",
    "# Print t-test results for each emotion\n",
    "print(\"T-test results (accuracy vs. chance level) per emotion:\")\n",
    "for emotion, result in t_test_results.items():\n",
    "    print(f\"{emotion}: t={result['t_stat']:.3f}, p={result['p_value']:.3f}, \"\n",
    "          f\"mean={result['mean_accuracy']:.3f}, d={result['cohens_d']:.3f}\")\n",
    "\n",
    "# Overall t-test collapsed across emotions\n",
    "t_stat_overall, p_value_overall = stats.ttest_1samp(df['Correct'], chance_level)\n",
    "effect_size_overall = cohens_d(df['Correct'], chance_level)\n",
    "\n",
    "print(\"\\nT-test collapsed across emotions:\")\n",
    "print(f\"t={t_stat_overall:.3f}, p={p_value_overall:.3f}, mean accuracy={df['Correct'].mean():.3f}, d={effect_size_overall:.3f}\")\n",
    "\n",
    "# F-test: ANOVA to check if accuracy differs significantly across emotions\n",
    "anova_result = stats.f_oneway(*[group['Correct'] for _, group in df.groupby('Emotion')])\n",
    "\n",
    "# Compute eta-squared effect size for ANOVA\n",
    "ss_between = sum(len(group) * (group['Correct'].mean() - df['Correct'].mean())**2 for _, group in df.groupby('Emotion'))\n",
    "ss_total = sum((df['Correct'] - df['Correct'].mean())**2)\n",
    "eta_squared = ss_between / ss_total if ss_total > 0 else np.nan\n",
    "\n",
    "print(\"\\nF-test (ANOVA) results:\")\n",
    "print(f\"F={anova_result.statistic:.3f}, p={anova_result.pvalue:.3f}, η²={eta_squared:.3f}\")\n"
   ]
  }
 ],
 "metadata": {
  "kernelspec": {
   "display_name": "Python 3 (ipykernel)",
   "language": "python",
   "name": "python3"
  },
  "language_info": {
   "codemirror_mode": {
    "name": "ipython",
    "version": 3
   },
   "file_extension": ".py",
   "mimetype": "text/x-python",
   "name": "python",
   "nbconvert_exporter": "python",
   "pygments_lexer": "ipython3",
   "version": "3.11.5"
  }
 },
 "nbformat": 4,
 "nbformat_minor": 5
}
